{
 "cells": [
  {
   "cell_type": "code",
   "execution_count": null,
   "id": "8eac2007",
   "metadata": {},
   "outputs": [],
   "source": [
    "######Story05"
   ]
  },
  {
   "cell_type": "code",
   "execution_count": 1,
   "id": "e1982db9",
   "metadata": {},
   "outputs": [],
   "source": [
    "ds=[1,2,3,4]\n",
    "ir=iter(ds)"
   ]
  },
  {
   "cell_type": "code",
   "execution_count": 2,
   "id": "9632da6b",
   "metadata": {},
   "outputs": [
    {
     "data": {
      "text/plain": [
       "1"
      ]
     },
     "execution_count": 2,
     "metadata": {},
     "output_type": "execute_result"
    }
   ],
   "source": [
    "next(ir)"
   ]
  },
  {
   "cell_type": "code",
   "execution_count": 3,
   "id": "ac064f22",
   "metadata": {},
   "outputs": [
    {
     "data": {
      "text/plain": [
       "2"
      ]
     },
     "execution_count": 3,
     "metadata": {},
     "output_type": "execute_result"
    }
   ],
   "source": [
    "next(ir)"
   ]
  },
  {
   "cell_type": "code",
   "execution_count": 4,
   "id": "90490f41",
   "metadata": {},
   "outputs": [
    {
     "data": {
      "text/plain": [
       "3"
      ]
     },
     "execution_count": 4,
     "metadata": {},
     "output_type": "execute_result"
    }
   ],
   "source": [
    "next(ir)"
   ]
  },
  {
   "cell_type": "code",
   "execution_count": 5,
   "id": "57678ec0",
   "metadata": {},
   "outputs": [
    {
     "data": {
      "text/plain": [
       "4"
      ]
     },
     "execution_count": 5,
     "metadata": {},
     "output_type": "execute_result"
    }
   ],
   "source": [
    "next(ir)"
   ]
  },
  {
   "cell_type": "code",
   "execution_count": 6,
   "id": "d6f06120",
   "metadata": {},
   "outputs": [
    {
     "data": {
      "text/plain": [
       "['__add__',\n",
       " '__class__',\n",
       " '__class_getitem__',\n",
       " '__contains__',\n",
       " '__delattr__',\n",
       " '__delitem__',\n",
       " '__dir__',\n",
       " '__doc__',\n",
       " '__eq__',\n",
       " '__format__',\n",
       " '__ge__',\n",
       " '__getattribute__',\n",
       " '__getitem__',\n",
       " '__gt__',\n",
       " '__hash__',\n",
       " '__iadd__',\n",
       " '__imul__',\n",
       " '__init__',\n",
       " '__init_subclass__',\n",
       " '__iter__',\n",
       " '__le__',\n",
       " '__len__',\n",
       " '__lt__',\n",
       " '__mul__',\n",
       " '__ne__',\n",
       " '__new__',\n",
       " '__reduce__',\n",
       " '__reduce_ex__',\n",
       " '__repr__',\n",
       " '__reversed__',\n",
       " '__rmul__',\n",
       " '__setattr__',\n",
       " '__setitem__',\n",
       " '__sizeof__',\n",
       " '__str__',\n",
       " '__subclasshook__',\n",
       " 'append',\n",
       " 'clear',\n",
       " 'copy',\n",
       " 'count',\n",
       " 'extend',\n",
       " 'index',\n",
       " 'insert',\n",
       " 'pop',\n",
       " 'remove',\n",
       " 'reverse',\n",
       " 'sort']"
      ]
     },
     "execution_count": 6,
     "metadata": {},
     "output_type": "execute_result"
    }
   ],
   "source": [
    "dir([1,2])"
   ]
  },
  {
   "cell_type": "code",
   "execution_count": 7,
   "id": "167ee36e",
   "metadata": {},
   "outputs": [
    {
     "data": {
      "text/plain": [
       "True"
      ]
     },
     "execution_count": 7,
     "metadata": {},
     "output_type": "execute_result"
    }
   ],
   "source": [
    "hasattr([1,2],'__iter__')"
   ]
  },
  {
   "cell_type": "code",
   "execution_count": 8,
   "id": "d43f0305",
   "metadata": {},
   "outputs": [
    {
     "name": "stdout",
     "output_type": "stream",
     "text": [
      "1 2 3 "
     ]
    }
   ],
   "source": [
    "for i in [1,2,3]:\n",
    "    print(i, end = ' ')"
   ]
  },
  {
   "cell_type": "code",
   "execution_count": 9,
   "id": "224e1099",
   "metadata": {},
   "outputs": [
    {
     "name": "stdout",
     "output_type": "stream",
     "text": [
      "1 2 3 "
     ]
    }
   ],
   "source": [
    "ir = iter([1,2,3])\n",
    "for i in ir : print(i, end = ' ')"
   ]
  },
  {
   "cell_type": "code",
   "execution_count": null,
   "id": "63b8c8be",
   "metadata": {},
   "outputs": [],
   "source": []
  },
  {
   "cell_type": "code",
   "execution_count": null,
   "id": "2b57b76a",
   "metadata": {},
   "outputs": [],
   "source": [
    "########Story06"
   ]
  },
  {
   "cell_type": "code",
   "execution_count": 11,
   "id": "49721864",
   "metadata": {},
   "outputs": [
    {
     "data": {
      "text/plain": [
       "function"
      ]
     },
     "execution_count": 11,
     "metadata": {},
     "output_type": "execute_result"
    }
   ],
   "source": [
    "def func1(n) :\n",
    "    return n\n",
    "type(func1)"
   ]
  },
  {
   "cell_type": "code",
   "execution_count": 32,
   "id": "2179dcf9",
   "metadata": {},
   "outputs": [],
   "source": [
    "def say1():\n",
    "    print('hello')\n",
    "def say2():\n",
    "    print('hi~')\n",
    "def caller(fct):\n",
    "    fct()"
   ]
  },
  {
   "cell_type": "code",
   "execution_count": 33,
   "id": "bc6f0116",
   "metadata": {},
   "outputs": [
    {
     "name": "stdout",
     "output_type": "stream",
     "text": [
      "hello\n"
     ]
    }
   ],
   "source": [
    "caller(say1)"
   ]
  },
  {
   "cell_type": "code",
   "execution_count": 34,
   "id": "18277e21",
   "metadata": {},
   "outputs": [
    {
     "name": "stdout",
     "output_type": "stream",
     "text": [
      "hi~\n"
     ]
    }
   ],
   "source": [
    "caller(say2)"
   ]
  },
  {
   "cell_type": "code",
   "execution_count": 35,
   "id": "72aa017b",
   "metadata": {},
   "outputs": [],
   "source": [
    "def fct_fac(n):\n",
    "    def exp(x):\n",
    "        return x**n\n",
    "    return exp"
   ]
  },
  {
   "cell_type": "code",
   "execution_count": 37,
   "id": "b85ec1ae",
   "metadata": {},
   "outputs": [],
   "source": [
    "f2=fct_fac(2)\n",
    "f3=fct_fac(3)"
   ]
  },
  {
   "cell_type": "code",
   "execution_count": 38,
   "id": "c2e5a065",
   "metadata": {},
   "outputs": [
    {
     "data": {
      "text/plain": [
       "16"
      ]
     },
     "execution_count": 38,
     "metadata": {},
     "output_type": "execute_result"
    }
   ],
   "source": [
    "f2(4)"
   ]
  },
  {
   "cell_type": "code",
   "execution_count": 39,
   "id": "c4633f55",
   "metadata": {},
   "outputs": [
    {
     "data": {
      "text/plain": [
       "64"
      ]
     },
     "execution_count": 39,
     "metadata": {},
     "output_type": "execute_result"
    }
   ],
   "source": [
    "f3(4)"
   ]
  },
  {
   "cell_type": "code",
   "execution_count": 40,
   "id": "7c94cd7e",
   "metadata": {},
   "outputs": [],
   "source": [
    "ref=lambda s: print(s)"
   ]
  },
  {
   "cell_type": "code",
   "execution_count": 41,
   "id": "f16d8e2e",
   "metadata": {},
   "outputs": [
    {
     "name": "stdout",
     "output_type": "stream",
     "text": [
      "hi\n"
     ]
    }
   ],
   "source": [
    "ref('hi')"
   ]
  },
  {
   "cell_type": "code",
   "execution_count": 42,
   "id": "ff5837c0",
   "metadata": {},
   "outputs": [
    {
     "data": {
      "text/plain": [
       "6"
      ]
     },
     "execution_count": 42,
     "metadata": {},
     "output_type": "execute_result"
    }
   ],
   "source": [
    "f2=lambda s: len(s)\n",
    "f2('simple')"
   ]
  },
  {
   "cell_type": "code",
   "execution_count": 43,
   "id": "4ece68cc",
   "metadata": {},
   "outputs": [
    {
     "ename": "SyntaxError",
     "evalue": "invalid syntax (2118054365.py, line 1)",
     "output_type": "error",
     "traceback": [
      "\u001b[0;36m  File \u001b[0;32m\"/tmp/ipykernel_8246/2118054365.py\"\u001b[0;36m, line \u001b[0;32m1\u001b[0m\n\u001b[0;31m    f3=lambda s: return len(s)\u001b[0m\n\u001b[0m                 ^\u001b[0m\n\u001b[0;31mSyntaxError\u001b[0m\u001b[0;31m:\u001b[0m invalid syntax\n"
     ]
    }
   ],
   "source": [
    "f3=lambda s: return len(s)\n",
    "f3('simple')"
   ]
  },
  {
   "cell_type": "code",
   "execution_count": 44,
   "id": "24a3d704",
   "metadata": {},
   "outputs": [
    {
     "name": "stdout",
     "output_type": "stream",
     "text": [
      "yes\n"
     ]
    }
   ],
   "source": [
    "f3=lambda : print('yes')\n",
    "f3()"
   ]
  },
  {
   "cell_type": "code",
   "execution_count": null,
   "id": "bfea47e1",
   "metadata": {},
   "outputs": [],
   "source": []
  },
  {
   "cell_type": "code",
   "execution_count": null,
   "id": "8c72b493",
   "metadata": {},
   "outputs": [],
   "source": [
    "############Story07"
   ]
  },
  {
   "cell_type": "code",
   "execution_count": 45,
   "id": "5dba378f",
   "metadata": {},
   "outputs": [],
   "source": [
    "def pow(n):\n",
    "    return n**2"
   ]
  },
  {
   "cell_type": "code",
   "execution_count": 46,
   "id": "db2fd4d1",
   "metadata": {},
   "outputs": [
    {
     "data": {
      "text/plain": [
       "[1, 4, 9]"
      ]
     },
     "execution_count": 46,
     "metadata": {},
     "output_type": "execute_result"
    }
   ],
   "source": [
    "st1=[1,2,3]\n",
    "st2=list(map(pow,st1))\n",
    "st2"
   ]
  },
  {
   "cell_type": "code",
   "execution_count": 48,
   "id": "d7c1d6ff",
   "metadata": {},
   "outputs": [
    {
     "data": {
      "text/plain": [
       "[2, 6, 8]"
      ]
     },
     "execution_count": 48,
     "metadata": {},
     "output_type": "execute_result"
    }
   ],
   "source": [
    "def dbl(e):\n",
    "    return e*2\n",
    "list(map(dbl,(1,3,4)))"
   ]
  },
  {
   "cell_type": "code",
   "execution_count": 49,
   "id": "17284b55",
   "metadata": {},
   "outputs": [
    {
     "data": {
      "text/plain": [
       "['hh', 'ii']"
      ]
     },
     "execution_count": 49,
     "metadata": {},
     "output_type": "execute_result"
    }
   ],
   "source": [
    "list(map(dbl,'hi'))"
   ]
  },
  {
   "cell_type": "code",
   "execution_count": 55,
   "id": "64da0536",
   "metadata": {},
   "outputs": [
    {
     "data": {
      "text/plain": [
       "[2, 6, 12]"
      ]
     },
     "execution_count": 55,
     "metadata": {},
     "output_type": "execute_result"
    }
   ],
   "source": [
    "def sum(n1,n2):\n",
    "    return n1+n2\n",
    "st3=list(map(sum,st1,st2))\n",
    "st3"
   ]
  },
  {
   "cell_type": "code",
   "execution_count": 56,
   "id": "08cfcba0",
   "metadata": {},
   "outputs": [
    {
     "data": {
      "text/plain": [
       "['eno', 'owt', 'eerht']"
      ]
     },
     "execution_count": 56,
     "metadata": {},
     "output_type": "execute_result"
    }
   ],
   "source": [
    "def rev(s):\n",
    "    return s[ : :-1]\n",
    "st=['one','two','three']\n",
    "rst=list(map(rev,st))\n",
    "rst"
   ]
  },
  {
   "cell_type": "code",
   "execution_count": 57,
   "id": "e84a2bc1",
   "metadata": {},
   "outputs": [
    {
     "data": {
      "text/plain": [
       "['eno', 'owt', 'eerht']"
      ]
     },
     "execution_count": 57,
     "metadata": {},
     "output_type": "execute_result"
    }
   ],
   "source": [
    "rst2=list(map(lambda s:s[ : :-1],st))\n",
    "rst2"
   ]
  },
  {
   "cell_type": "code",
   "execution_count": 58,
   "id": "379f9648",
   "metadata": {},
   "outputs": [
    {
     "data": {
      "text/plain": [
       "[1, 3, 5]"
      ]
     },
     "execution_count": 58,
     "metadata": {},
     "output_type": "execute_result"
    }
   ],
   "source": [
    "def is_odd(n):\n",
    "    return n%2\n",
    "st=[1,2,3,4,5]\n",
    "ost=list(filter(is_odd,st))\n",
    "ost"
   ]
  },
  {
   "cell_type": "code",
   "execution_count": 59,
   "id": "0bcaf1c7",
   "metadata": {},
   "outputs": [
    {
     "data": {
      "text/plain": [
       "[1, 3, 5]"
      ]
     },
     "execution_count": 59,
     "metadata": {},
     "output_type": "execute_result"
    }
   ],
   "source": [
    "ost2=list(filter(lambda n: n%2,st))\n",
    "ost2"
   ]
  },
  {
   "cell_type": "code",
   "execution_count": 62,
   "id": "f488699a",
   "metadata": {},
   "outputs": [
    {
     "data": {
      "text/plain": [
       "[3, 6, 9]"
      ]
     },
     "execution_count": 62,
     "metadata": {},
     "output_type": "execute_result"
    }
   ],
   "source": [
    "st=list(range(1,11))\n",
    "fst=list(filter(lambda n: not(n%3),st))\n",
    "fst"
   ]
  },
  {
   "cell_type": "code",
   "execution_count": 63,
   "id": "6358206e",
   "metadata": {},
   "outputs": [
    {
     "data": {
      "text/plain": [
       "[9, 36, 81]"
      ]
     },
     "execution_count": 63,
     "metadata": {},
     "output_type": "execute_result"
    }
   ],
   "source": [
    "fst2=list(filter(lambda n: not(n%3),map(lambda n: n**2,st)))\n",
    "fst2"
   ]
  },
  {
   "cell_type": "code",
   "execution_count": null,
   "id": "72565ca3",
   "metadata": {},
   "outputs": [],
   "source": []
  },
  {
   "cell_type": "code",
   "execution_count": null,
   "id": "7afd12dc",
   "metadata": {},
   "outputs": [],
   "source": [
    "##############Story08"
   ]
  },
  {
   "cell_type": "code",
   "execution_count": 64,
   "id": "fe05ce8a",
   "metadata": {},
   "outputs": [
    {
     "data": {
      "text/plain": [
       "[1, 9, 25, 49, 81]"
      ]
     },
     "execution_count": 64,
     "metadata": {},
     "output_type": "execute_result"
    }
   ],
   "source": [
    "st=list(range(1,11))\n",
    "fst=[n**2 for n in st if n%2]\n",
    "fst"
   ]
  },
  {
   "cell_type": "code",
   "execution_count": null,
   "id": "39454908",
   "metadata": {},
   "outputs": [],
   "source": []
  },
  {
   "cell_type": "code",
   "execution_count": null,
   "id": "b7a0937e",
   "metadata": {},
   "outputs": [],
   "source": [
    "############Story09"
   ]
  },
  {
   "cell_type": "code",
   "execution_count": 65,
   "id": "a2b109f9",
   "metadata": {},
   "outputs": [],
   "source": [
    "def gen_num():\n",
    "    print('first')\n",
    "    yield 1\n",
    "    print('second')\n",
    "    yield 2\n",
    "    print('third')\n",
    "    yield 3"
   ]
  },
  {
   "cell_type": "code",
   "execution_count": 66,
   "id": "7c6e689f",
   "metadata": {},
   "outputs": [],
   "source": [
    "gen=gen_num()"
   ]
  },
  {
   "cell_type": "code",
   "execution_count": 67,
   "id": "c84363ee",
   "metadata": {},
   "outputs": [
    {
     "name": "stdout",
     "output_type": "stream",
     "text": [
      "first\n"
     ]
    },
    {
     "data": {
      "text/plain": [
       "1"
      ]
     },
     "execution_count": 67,
     "metadata": {},
     "output_type": "execute_result"
    }
   ],
   "source": [
    "next(gen)"
   ]
  },
  {
   "cell_type": "code",
   "execution_count": 69,
   "id": "21206e2b",
   "metadata": {},
   "outputs": [
    {
     "name": "stdout",
     "output_type": "stream",
     "text": [
      "second\n"
     ]
    },
    {
     "data": {
      "text/plain": [
       "2"
      ]
     },
     "execution_count": 69,
     "metadata": {},
     "output_type": "execute_result"
    }
   ],
   "source": [
    "next(gen)"
   ]
  },
  {
   "cell_type": "code",
   "execution_count": 70,
   "id": "02f8abf2",
   "metadata": {},
   "outputs": [
    {
     "name": "stdout",
     "output_type": "stream",
     "text": [
      "third\n"
     ]
    },
    {
     "data": {
      "text/plain": [
       "3"
      ]
     },
     "execution_count": 70,
     "metadata": {},
     "output_type": "execute_result"
    }
   ],
   "source": [
    "next(gen)"
   ]
  },
  {
   "cell_type": "code",
   "execution_count": 71,
   "id": "135de043",
   "metadata": {},
   "outputs": [
    {
     "ename": "StopIteration",
     "evalue": "",
     "output_type": "error",
     "traceback": [
      "\u001b[0;31m---------------------------------------------------------------------------\u001b[0m",
      "\u001b[0;31mStopIteration\u001b[0m                             Traceback (most recent call last)",
      "\u001b[0;32m/tmp/ipykernel_8246/4293081279.py\u001b[0m in \u001b[0;36m<module>\u001b[0;34m\u001b[0m\n\u001b[0;32m----> 1\u001b[0;31m \u001b[0mnext\u001b[0m\u001b[0;34m(\u001b[0m\u001b[0mgen\u001b[0m\u001b[0;34m)\u001b[0m\u001b[0;34m\u001b[0m\u001b[0;34m\u001b[0m\u001b[0m\n\u001b[0m",
      "\u001b[0;31mStopIteration\u001b[0m: "
     ]
    }
   ],
   "source": [
    "next(gen)"
   ]
  },
  {
   "cell_type": "code",
   "execution_count": 76,
   "id": "4f61b923",
   "metadata": {},
   "outputs": [],
   "source": [
    "def gpows(s):\n",
    "    for i in s:\n",
    "        yield i**2\n",
    "st=gpows(range(1,10))"
   ]
  },
  {
   "cell_type": "code",
   "execution_count": 77,
   "id": "22f2fd9d",
   "metadata": {},
   "outputs": [
    {
     "name": "stdout",
     "output_type": "stream",
     "text": [
      "1 4 9 16 25 36 49 64 81 "
     ]
    }
   ],
   "source": [
    "for i in st:\n",
    "    print(i,end=' ')"
   ]
  },
  {
   "cell_type": "code",
   "execution_count": 78,
   "id": "42880ec5",
   "metadata": {},
   "outputs": [
    {
     "data": {
      "text/plain": [
       "112"
      ]
     },
     "execution_count": 78,
     "metadata": {},
     "output_type": "execute_result"
    }
   ],
   "source": [
    "import sys\n",
    "sys.getsizeof(st)"
   ]
  },
  {
   "cell_type": "code",
   "execution_count": 79,
   "id": "7ff26313",
   "metadata": {},
   "outputs": [],
   "source": [
    "def get_nums():\n",
    "    ns=[0,1,0,1,0,1]\n",
    "    yield from ns\n",
    "g=get_nums()"
   ]
  },
  {
   "cell_type": "code",
   "execution_count": 80,
   "id": "6d04bff7",
   "metadata": {},
   "outputs": [
    {
     "data": {
      "text/plain": [
       "0"
      ]
     },
     "execution_count": 80,
     "metadata": {},
     "output_type": "execute_result"
    }
   ],
   "source": [
    "next(g)"
   ]
  },
  {
   "cell_type": "code",
   "execution_count": 81,
   "id": "6b86dd49",
   "metadata": {},
   "outputs": [
    {
     "data": {
      "text/plain": [
       "1"
      ]
     },
     "execution_count": 81,
     "metadata": {},
     "output_type": "execute_result"
    }
   ],
   "source": [
    "next(g)"
   ]
  },
  {
   "cell_type": "code",
   "execution_count": 82,
   "id": "5d11bbea",
   "metadata": {},
   "outputs": [
    {
     "data": {
      "text/plain": [
       "0"
      ]
     },
     "execution_count": 82,
     "metadata": {},
     "output_type": "execute_result"
    }
   ],
   "source": [
    "next(g)"
   ]
  },
  {
   "cell_type": "code",
   "execution_count": 83,
   "id": "787cb680",
   "metadata": {},
   "outputs": [
    {
     "data": {
      "text/plain": [
       "1"
      ]
     },
     "execution_count": 83,
     "metadata": {},
     "output_type": "execute_result"
    }
   ],
   "source": [
    "next(g)"
   ]
  },
  {
   "cell_type": "code",
   "execution_count": 84,
   "id": "3d8e0714",
   "metadata": {},
   "outputs": [
    {
     "data": {
      "text/plain": [
       "0"
      ]
     },
     "execution_count": 84,
     "metadata": {},
     "output_type": "execute_result"
    }
   ],
   "source": [
    "next(g)"
   ]
  },
  {
   "cell_type": "code",
   "execution_count": 85,
   "id": "a711a21d",
   "metadata": {},
   "outputs": [
    {
     "data": {
      "text/plain": [
       "1"
      ]
     },
     "execution_count": 85,
     "metadata": {},
     "output_type": "execute_result"
    }
   ],
   "source": [
    "next(g)"
   ]
  },
  {
   "cell_type": "code",
   "execution_count": 86,
   "id": "edeb85e0",
   "metadata": {},
   "outputs": [
    {
     "ename": "StopIteration",
     "evalue": "",
     "output_type": "error",
     "traceback": [
      "\u001b[0;31m---------------------------------------------------------------------------\u001b[0m",
      "\u001b[0;31mStopIteration\u001b[0m                             Traceback (most recent call last)",
      "\u001b[0;32m/tmp/ipykernel_8246/4253931490.py\u001b[0m in \u001b[0;36m<module>\u001b[0;34m\u001b[0m\n\u001b[0;32m----> 1\u001b[0;31m \u001b[0mnext\u001b[0m\u001b[0;34m(\u001b[0m\u001b[0mg\u001b[0m\u001b[0;34m)\u001b[0m\u001b[0;34m\u001b[0m\u001b[0;34m\u001b[0m\u001b[0m\n\u001b[0m",
      "\u001b[0;31mStopIteration\u001b[0m: "
     ]
    }
   ],
   "source": [
    "next(g)"
   ]
  },
  {
   "cell_type": "code",
   "execution_count": null,
   "id": "931b2aee",
   "metadata": {},
   "outputs": [],
   "source": []
  },
  {
   "cell_type": "code",
   "execution_count": null,
   "id": "6db929d1",
   "metadata": {},
   "outputs": [],
   "source": [
    "#############Story10"
   ]
  },
  {
   "cell_type": "code",
   "execution_count": 92,
   "id": "bb7a6aff",
   "metadata": {},
   "outputs": [
    {
     "name": "stdout",
     "output_type": "stream",
     "text": [
      "2 4 6 8 10 12 14 16 18 "
     ]
    }
   ],
   "source": [
    "def show_all(s):\n",
    "    for i in s:\n",
    "        print(i,end=' ')\n",
    "st=[2*i for i in range(1,10)]\n",
    "show_all(st)"
   ]
  },
  {
   "cell_type": "code",
   "execution_count": 94,
   "id": "8db99910",
   "metadata": {},
   "outputs": [
    {
     "name": "stdout",
     "output_type": "stream",
     "text": [
      "2 4 6 8 10 12 14 16 18 "
     ]
    }
   ],
   "source": [
    "def times2():\n",
    "    for i in range(1,10):\n",
    "        yield 2*i\n",
    "g=times2()\n",
    "show_all(g)"
   ]
  },
  {
   "cell_type": "code",
   "execution_count": 96,
   "id": "b3655c98",
   "metadata": {},
   "outputs": [
    {
     "name": "stdout",
     "output_type": "stream",
     "text": [
      "2 4 6 8 10 12 14 16 18 "
     ]
    }
   ],
   "source": [
    "g=(2*i for i in range(1,10))\n",
    "show_all(g)"
   ]
  },
  {
   "cell_type": "code",
   "execution_count": 98,
   "id": "cbe67019",
   "metadata": {},
   "outputs": [
    {
     "data": {
      "text/plain": [
       "2"
      ]
     },
     "execution_count": 98,
     "metadata": {},
     "output_type": "execute_result"
    }
   ],
   "source": [
    "g=(2*i for i in range(1,10))\n",
    "next(g)"
   ]
  },
  {
   "cell_type": "code",
   "execution_count": 100,
   "id": "d3f88d8b",
   "metadata": {},
   "outputs": [
    {
     "name": "stdout",
     "output_type": "stream",
     "text": [
      "2 4 6 8 10 12 14 16 18 "
     ]
    }
   ],
   "source": [
    "show_all((2*i for i in range(1,10)))"
   ]
  },
  {
   "cell_type": "code",
   "execution_count": 102,
   "id": "584ce3cc",
   "metadata": {},
   "outputs": [
    {
     "name": "stdout",
     "output_type": "stream",
     "text": [
      "2 4 6 8 10 12 14 16 18 "
     ]
    }
   ],
   "source": [
    "show_all(2*i for i in range(1,10))"
   ]
  },
  {
   "cell_type": "code",
   "execution_count": null,
   "id": "d8c3b062",
   "metadata": {},
   "outputs": [],
   "source": []
  }
 ],
 "metadata": {
  "kernelspec": {
   "display_name": "Python 3 (ipykernel)",
   "language": "python",
   "name": "python3"
  },
  "language_info": {
   "codemirror_mode": {
    "name": "ipython",
    "version": 3
   },
   "file_extension": ".py",
   "mimetype": "text/x-python",
   "name": "python",
   "nbconvert_exporter": "python",
   "pygments_lexer": "ipython3",
   "version": "3.9.7"
  }
 },
 "nbformat": 4,
 "nbformat_minor": 5
}
