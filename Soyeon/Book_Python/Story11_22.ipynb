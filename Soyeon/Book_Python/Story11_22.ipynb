{
 "cells": [
  {
   "cell_type": "code",
   "execution_count": null,
   "id": "a12b7c52",
   "metadata": {},
   "outputs": [],
   "source": [
    "############Story11"
   ]
  },
  {
   "cell_type": "code",
   "execution_count": 1,
   "id": "1c361241",
   "metadata": {},
   "outputs": [
    {
     "name": "stdout",
     "output_type": "stream",
     "text": [
      "12 25\n"
     ]
    }
   ],
   "source": [
    "tri_three=(12,25)\n",
    "bt,ht=tri_three\n",
    "print(bt,ht)"
   ]
  },
  {
   "cell_type": "code",
   "execution_count": 2,
   "id": "432a3d1e",
   "metadata": {},
   "outputs": [
    {
     "data": {
      "text/plain": [
       "1"
      ]
     },
     "execution_count": 2,
     "metadata": {},
     "output_type": "execute_result"
    }
   ],
   "source": [
    "nums=(1,2,3,4,5)\n",
    "n1,n2,*others=nums\n",
    "n1"
   ]
  },
  {
   "cell_type": "code",
   "execution_count": 3,
   "id": "9eb2d4f4",
   "metadata": {},
   "outputs": [
    {
     "data": {
      "text/plain": [
       "2"
      ]
     },
     "execution_count": 3,
     "metadata": {},
     "output_type": "execute_result"
    }
   ],
   "source": [
    "n2"
   ]
  },
  {
   "cell_type": "code",
   "execution_count": 4,
   "id": "64796bc9",
   "metadata": {},
   "outputs": [
    {
     "data": {
      "text/plain": [
       "[3, 4, 5]"
      ]
     },
     "execution_count": 4,
     "metadata": {},
     "output_type": "execute_result"
    }
   ],
   "source": [
    "others"
   ]
  },
  {
   "cell_type": "code",
   "execution_count": 5,
   "id": "48bf0a25",
   "metadata": {},
   "outputs": [
    {
     "data": {
      "text/plain": [
       "1"
      ]
     },
     "execution_count": 5,
     "metadata": {},
     "output_type": "execute_result"
    }
   ],
   "source": [
    "nums=(1,2,3,4,5)\n",
    "first,*others,last=nums\n",
    "first"
   ]
  },
  {
   "cell_type": "code",
   "execution_count": 6,
   "id": "60f43dc6",
   "metadata": {},
   "outputs": [
    {
     "data": {
      "text/plain": [
       "[2, 3, 4]"
      ]
     },
     "execution_count": 6,
     "metadata": {},
     "output_type": "execute_result"
    }
   ],
   "source": [
    "others"
   ]
  },
  {
   "cell_type": "code",
   "execution_count": 7,
   "id": "ca00934d",
   "metadata": {},
   "outputs": [
    {
     "data": {
      "text/plain": [
       "5"
      ]
     },
     "execution_count": 7,
     "metadata": {},
     "output_type": "execute_result"
    }
   ],
   "source": [
    "last"
   ]
  },
  {
   "cell_type": "code",
   "execution_count": 8,
   "id": "bcc29f37",
   "metadata": {},
   "outputs": [],
   "source": [
    "def ret_nums():\n",
    "    return 1,2,3,4,5"
   ]
  },
  {
   "cell_type": "code",
   "execution_count": 9,
   "id": "a1b87e44",
   "metadata": {},
   "outputs": [
    {
     "data": {
      "text/plain": [
       "(1, 2, 3, 4, 5)"
      ]
     },
     "execution_count": 9,
     "metadata": {},
     "output_type": "execute_result"
    }
   ],
   "source": [
    "nums=ret_nums()\n",
    "nums"
   ]
  },
  {
   "cell_type": "code",
   "execution_count": 10,
   "id": "1794c73e",
   "metadata": {},
   "outputs": [
    {
     "data": {
      "text/plain": [
       "1"
      ]
     },
     "execution_count": 10,
     "metadata": {},
     "output_type": "execute_result"
    }
   ],
   "source": [
    "n,*others=ret_nums()\n",
    "n"
   ]
  },
  {
   "cell_type": "code",
   "execution_count": 11,
   "id": "36465e45",
   "metadata": {},
   "outputs": [
    {
     "data": {
      "text/plain": [
       "[2, 3, 4, 5]"
      ]
     },
     "execution_count": 11,
     "metadata": {},
     "output_type": "execute_result"
    }
   ],
   "source": [
    "others"
   ]
  },
  {
   "cell_type": "code",
   "execution_count": 12,
   "id": "1f3bd9dd",
   "metadata": {},
   "outputs": [
    {
     "name": "stdout",
     "output_type": "stream",
     "text": [
      "Yoon,22,180\n"
     ]
    }
   ],
   "source": [
    "def show_man(name,age,height):\n",
    "    print(name,age,height,sep=',')\n",
    "\n",
    "p=('Yoon',22,180)\n",
    "show_man(*p)"
   ]
  },
  {
   "cell_type": "code",
   "execution_count": 13,
   "id": "58f61f6b",
   "metadata": {},
   "outputs": [
    {
     "name": "stdout",
     "output_type": "stream",
     "text": [
      "Hong 178\n"
     ]
    }
   ],
   "source": [
    "p='Hong',(32,178),'010-1234-5678','Korea'\n",
    "na,(ag,he),ph,ad=p\n",
    "print(na,he)"
   ]
  },
  {
   "cell_type": "code",
   "execution_count": 14,
   "id": "33ef7537",
   "metadata": {},
   "outputs": [
    {
     "name": "stdout",
     "output_type": "stream",
     "text": [
      "Hong 178\n"
     ]
    }
   ],
   "source": [
    "na,(_,he),_,_=p\n",
    "print(na,he)"
   ]
  },
  {
   "cell_type": "code",
   "execution_count": null,
   "id": "ab38e92c",
   "metadata": {},
   "outputs": [],
   "source": []
  },
  {
   "cell_type": "code",
   "execution_count": null,
   "id": "d8a8dba5",
   "metadata": {},
   "outputs": [],
   "source": [
    "##############Story12"
   ]
  },
  {
   "cell_type": "code",
   "execution_count": 15,
   "id": "cfc680f2",
   "metadata": {},
   "outputs": [],
   "source": [
    "from collections import namedtuple"
   ]
  },
  {
   "cell_type": "code",
   "execution_count": 16,
   "id": "0fd9a45d",
   "metadata": {},
   "outputs": [
    {
     "name": "stdout",
     "output_type": "stream",
     "text": [
      "3 7\n"
     ]
    }
   ],
   "source": [
    "Tri=namedtuple('Triangle',['bottom','height'])\n",
    "t=Tri(3,7)\n",
    "print(t[0],t[1])"
   ]
  },
  {
   "cell_type": "code",
   "execution_count": 17,
   "id": "d4fae054",
   "metadata": {},
   "outputs": [
    {
     "name": "stdout",
     "output_type": "stream",
     "text": [
      "3 7\n"
     ]
    }
   ],
   "source": [
    "print(t.bottom,t.height)"
   ]
  },
  {
   "cell_type": "code",
   "execution_count": 18,
   "id": "d7f2eccc",
   "metadata": {},
   "outputs": [
    {
     "name": "stdout",
     "output_type": "stream",
     "text": [
      "3 8\n"
     ]
    }
   ],
   "source": [
    "def show(n1,n2):\n",
    "    print(n1,n2)\n",
    "\n",
    "t=Tri(3,8)\n",
    "show(*t)"
   ]
  },
  {
   "cell_type": "code",
   "execution_count": null,
   "id": "02a527da",
   "metadata": {},
   "outputs": [],
   "source": []
  },
  {
   "cell_type": "code",
   "execution_count": null,
   "id": "838c22fd",
   "metadata": {},
   "outputs": [],
   "source": [
    "################Story13"
   ]
  },
  {
   "cell_type": "code",
   "execution_count": 19,
   "id": "42285d1b",
   "metadata": {},
   "outputs": [
    {
     "data": {
      "text/plain": [
       "dict"
      ]
     },
     "execution_count": 19,
     "metadata": {},
     "output_type": "execute_result"
    }
   ],
   "source": [
    "type({})"
   ]
  },
  {
   "cell_type": "code",
   "execution_count": 25,
   "id": "6d341d3e",
   "metadata": {},
   "outputs": [
    {
     "data": {
      "text/plain": [
       "{'a': 1, 'b': 2, 'c': 3}"
      ]
     },
     "execution_count": 25,
     "metadata": {},
     "output_type": "execute_result"
    }
   ],
   "source": [
    "d1={'a':1,'b':2,'c':3}\n",
    "d1"
   ]
  },
  {
   "cell_type": "code",
   "execution_count": 26,
   "id": "f1618ae9",
   "metadata": {},
   "outputs": [
    {
     "data": {
      "text/plain": [
       "{'a': 1, 'b': 2, 'c': 3}"
      ]
     },
     "execution_count": 26,
     "metadata": {},
     "output_type": "execute_result"
    }
   ],
   "source": [
    "d2=dict([('a',1),('b',2),('c',3)])\n",
    "d2"
   ]
  },
  {
   "cell_type": "code",
   "execution_count": 27,
   "id": "eb255ae3",
   "metadata": {},
   "outputs": [
    {
     "data": {
      "text/plain": [
       "{'a': 1, 'b': 2, 'c': 3}"
      ]
     },
     "execution_count": 27,
     "metadata": {},
     "output_type": "execute_result"
    }
   ],
   "source": [
    "d3=dict(a=1,b=2,c=3)\n",
    "d3"
   ]
  },
  {
   "cell_type": "code",
   "execution_count": 28,
   "id": "ad989629",
   "metadata": {},
   "outputs": [
    {
     "data": {
      "text/plain": [
       "{'a': 1, 'b': 2, 'c': 3}"
      ]
     },
     "execution_count": 28,
     "metadata": {},
     "output_type": "execute_result"
    }
   ],
   "source": [
    "d4=dict(zip(['a','b','c'],[1,2,3]))\n",
    "d4"
   ]
  },
  {
   "cell_type": "code",
   "execution_count": 29,
   "id": "d1c15ee2",
   "metadata": {},
   "outputs": [
    {
     "name": "stdout",
     "output_type": "stream",
     "text": [
      "('a', 1),('b', 2),('c', 3),"
     ]
    }
   ],
   "source": [
    "z=zip('abc',(1,2,3))\n",
    "for i in z:\n",
    "    print(i, end=',')\n",
    "    "
   ]
  },
  {
   "cell_type": "code",
   "execution_count": 31,
   "id": "3a3fa01d",
   "metadata": {},
   "outputs": [
    {
     "data": {
      "text/plain": [
       "[('a', 1), ('b', 2), ('c', 3)]"
      ]
     },
     "execution_count": 31,
     "metadata": {},
     "output_type": "execute_result"
    }
   ],
   "source": [
    "d=list(zip(['a','b','c'],[1,2,3]))\n",
    "d"
   ]
  },
  {
   "cell_type": "code",
   "execution_count": 32,
   "id": "86ff9a21",
   "metadata": {},
   "outputs": [
    {
     "data": {
      "text/plain": [
       "(('a', '1'), ('b', '2'), ('c', '3'))"
      ]
     },
     "execution_count": 32,
     "metadata": {},
     "output_type": "execute_result"
    }
   ],
   "source": [
    "d=tuple(zip('abc','123'))\n",
    "d"
   ]
  },
  {
   "cell_type": "code",
   "execution_count": 33,
   "id": "b3d5ca4e",
   "metadata": {},
   "outputs": [
    {
     "data": {
      "text/plain": [
       "{'a': 1, 'b': 2, 'c': 3}"
      ]
     },
     "execution_count": 33,
     "metadata": {},
     "output_type": "execute_result"
    }
   ],
   "source": [
    "d=dict(zip(['a','b','c'],(1,2,3)))\n",
    "d"
   ]
  },
  {
   "cell_type": "code",
   "execution_count": null,
   "id": "ba1d4986",
   "metadata": {},
   "outputs": [],
   "source": []
  },
  {
   "cell_type": "code",
   "execution_count": null,
   "id": "a44f3c4f",
   "metadata": {},
   "outputs": [],
   "source": [
    "#################Story14"
   ]
  },
  {
   "cell_type": "code",
   "execution_count": 35,
   "id": "fa715571",
   "metadata": {},
   "outputs": [
    {
     "name": "stdout",
     "output_type": "stream",
     "text": [
      "a,b,c,"
     ]
    }
   ],
   "source": [
    "d=dict(a=1,b=2,c=3)\n",
    "for k in d.keys():\n",
    "    print(k,end=',')"
   ]
  },
  {
   "cell_type": "code",
   "execution_count": 36,
   "id": "320b1ede",
   "metadata": {},
   "outputs": [
    {
     "name": "stdout",
     "output_type": "stream",
     "text": [
      "1,2,3,"
     ]
    }
   ],
   "source": [
    "d=dict(a=1,b=2,c=3)\n",
    "for k in d.values():\n",
    "    print(k,end=',')"
   ]
  },
  {
   "cell_type": "code",
   "execution_count": 37,
   "id": "39923f2b",
   "metadata": {},
   "outputs": [
    {
     "name": "stdout",
     "output_type": "stream",
     "text": [
      "('a', 1),('b', 2),('c', 3),"
     ]
    }
   ],
   "source": [
    "d=dict(a=1,b=2,c=3)\n",
    "for k in d.items():\n",
    "    print(k,end=',')"
   ]
  },
  {
   "cell_type": "code",
   "execution_count": 38,
   "id": "8f94f63e",
   "metadata": {},
   "outputs": [
    {
     "data": {
      "text/plain": [
       "{'a': 1, 'c': 3}"
      ]
     },
     "execution_count": 38,
     "metadata": {},
     "output_type": "execute_result"
    }
   ],
   "source": [
    "d1=dict(a=1,b=2,c=3,d=4)\n",
    "d2={k:v for k,v in d1.items() if v%2}\n",
    "d2"
   ]
  },
  {
   "cell_type": "code",
   "execution_count": null,
   "id": "396740f5",
   "metadata": {},
   "outputs": [],
   "source": []
  },
  {
   "cell_type": "code",
   "execution_count": null,
   "id": "b039f6fc",
   "metadata": {},
   "outputs": [],
   "source": [
    "###############Story15"
   ]
  },
  {
   "cell_type": "code",
   "execution_count": 40,
   "id": "b1402242",
   "metadata": {},
   "outputs": [
    {
     "name": "stdout",
     "output_type": "stream",
     "text": [
      "('a', 1),('b', 2),('c', 3)\n"
     ]
    }
   ],
   "source": [
    "def who(a,b,c):\n",
    "    print(a,b,c,sep=',')\n",
    "d=dict(a=1,b=2,c=3)\n",
    "who(*(d.items()))"
   ]
  },
  {
   "cell_type": "code",
   "execution_count": 41,
   "id": "5f375016",
   "metadata": {},
   "outputs": [],
   "source": [
    "def func(*args):\n",
    "    print(args)"
   ]
  },
  {
   "cell_type": "code",
   "execution_count": 42,
   "id": "44c00931",
   "metadata": {},
   "outputs": [
    {
     "name": "stdout",
     "output_type": "stream",
     "text": [
      "()\n"
     ]
    }
   ],
   "source": [
    "func()"
   ]
  },
  {
   "cell_type": "code",
   "execution_count": 43,
   "id": "38d0cb48",
   "metadata": {},
   "outputs": [
    {
     "name": "stdout",
     "output_type": "stream",
     "text": [
      "(1,)\n"
     ]
    }
   ],
   "source": [
    "func(1)"
   ]
  },
  {
   "cell_type": "code",
   "execution_count": 44,
   "id": "6cc9cf23",
   "metadata": {},
   "outputs": [],
   "source": [
    "def func(**args):\n",
    "    print(args)"
   ]
  },
  {
   "cell_type": "code",
   "execution_count": 45,
   "id": "c0d32196",
   "metadata": {},
   "outputs": [
    {
     "name": "stdout",
     "output_type": "stream",
     "text": [
      "{'a': 1}\n"
     ]
    }
   ],
   "source": [
    "func(a=1)"
   ]
  },
  {
   "cell_type": "code",
   "execution_count": null,
   "id": "2ed8016d",
   "metadata": {},
   "outputs": [],
   "source": []
  },
  {
   "cell_type": "code",
   "execution_count": null,
   "id": "af60fed8",
   "metadata": {},
   "outputs": [],
   "source": [
    "###########Story16"
   ]
  },
  {
   "cell_type": "code",
   "execution_count": 46,
   "id": "24630544",
   "metadata": {},
   "outputs": [
    {
     "data": {
      "text/plain": [
       "{'white': 2, 'blue': 4, 'red': 1}"
      ]
     },
     "execution_count": 46,
     "metadata": {},
     "output_type": "execute_result"
    }
   ],
   "source": [
    "d={'white':2, 'blue':4}\n",
    "d['red']=1\n",
    "d"
   ]
  },
  {
   "cell_type": "code",
   "execution_count": 47,
   "id": "0708198e",
   "metadata": {},
   "outputs": [
    {
     "data": {
      "text/plain": [
       "{'r': 1, 'o': 2, 'b': 2, 't': 1}"
      ]
     },
     "execution_count": 47,
     "metadata": {},
     "output_type": "execute_result"
    }
   ],
   "source": [
    "s='robbot'\n",
    "d={}\n",
    "for k in s:\n",
    "    d[k]=d.setdefault(k,0)+1\n",
    "d"
   ]
  },
  {
   "cell_type": "code",
   "execution_count": null,
   "id": "b88fdd77",
   "metadata": {},
   "outputs": [],
   "source": []
  },
  {
   "cell_type": "code",
   "execution_count": null,
   "id": "2c5a92dd",
   "metadata": {},
   "outputs": [],
   "source": [
    "###############Story17"
   ]
  },
  {
   "cell_type": "code",
   "execution_count": 50,
   "id": "fbef046c",
   "metadata": {},
   "outputs": [],
   "source": [
    "from collections import OrderedDict"
   ]
  },
  {
   "cell_type": "code",
   "execution_count": 51,
   "id": "bc82523a",
   "metadata": {},
   "outputs": [
    {
     "data": {
      "text/plain": [
       "OrderedDict([('a', 1), ('b', 2)])"
      ]
     },
     "execution_count": 51,
     "metadata": {},
     "output_type": "execute_result"
    }
   ],
   "source": [
    "od=OrderedDict()\n",
    "od['a']=1\n",
    "od['b']=2\n",
    "od"
   ]
  },
  {
   "cell_type": "code",
   "execution_count": 52,
   "id": "f9ee7942",
   "metadata": {},
   "outputs": [
    {
     "name": "stdout",
     "output_type": "stream",
     "text": [
      "('a', 1) ('b', 2) ('c', 3) "
     ]
    }
   ],
   "source": [
    "od=OrderedDict(a=1,b=2,c=3)\n",
    "for kv in od.items():\n",
    "    print(kv,end=' ')"
   ]
  },
  {
   "cell_type": "code",
   "execution_count": 54,
   "id": "b8782edd",
   "metadata": {},
   "outputs": [
    {
     "name": "stdout",
     "output_type": "stream",
     "text": [
      "('a', 1) ('c', 3) ('b', 2) "
     ]
    }
   ],
   "source": [
    "od.move_to_end('b')\n",
    "for kv in od.items():\n",
    "    print(kv,end=' ')"
   ]
  },
  {
   "cell_type": "code",
   "execution_count": null,
   "id": "8358a85d",
   "metadata": {},
   "outputs": [],
   "source": []
  },
  {
   "cell_type": "code",
   "execution_count": null,
   "id": "7b36db95",
   "metadata": {},
   "outputs": [],
   "source": [
    "###############Story18"
   ]
  },
  {
   "cell_type": "code",
   "execution_count": 55,
   "id": "956c0af7",
   "metadata": {},
   "outputs": [],
   "source": [
    "A={'a','c','d','f'}\n",
    "B={'a','b','d','e'}"
   ]
  },
  {
   "cell_type": "code",
   "execution_count": 56,
   "id": "280ec77c",
   "metadata": {},
   "outputs": [
    {
     "data": {
      "text/plain": [
       "{'c', 'f'}"
      ]
     },
     "execution_count": 56,
     "metadata": {},
     "output_type": "execute_result"
    }
   ],
   "source": [
    "A-B"
   ]
  },
  {
   "cell_type": "code",
   "execution_count": 57,
   "id": "73fda146",
   "metadata": {},
   "outputs": [
    {
     "data": {
      "text/plain": [
       "{'a', 'd'}"
      ]
     },
     "execution_count": 57,
     "metadata": {},
     "output_type": "execute_result"
    }
   ],
   "source": [
    "A&B"
   ]
  },
  {
   "cell_type": "code",
   "execution_count": 58,
   "id": "9b57b551",
   "metadata": {},
   "outputs": [
    {
     "data": {
      "text/plain": [
       "{'a', 'b', 'c', 'd', 'e', 'f'}"
      ]
     },
     "execution_count": 58,
     "metadata": {},
     "output_type": "execute_result"
    }
   ],
   "source": [
    "A|B"
   ]
  },
  {
   "cell_type": "code",
   "execution_count": 59,
   "id": "3ba877b3",
   "metadata": {},
   "outputs": [
    {
     "data": {
      "text/plain": [
       "{'b', 'c', 'e', 'f'}"
      ]
     },
     "execution_count": 59,
     "metadata": {},
     "output_type": "execute_result"
    }
   ],
   "source": [
    "A^B"
   ]
  },
  {
   "cell_type": "code",
   "execution_count": 60,
   "id": "a64ff112",
   "metadata": {},
   "outputs": [
    {
     "data": {
      "text/plain": [
       "True"
      ]
     },
     "execution_count": 60,
     "metadata": {},
     "output_type": "execute_result"
    }
   ],
   "source": [
    "A=set(['a','c','d','f'])\n",
    "B=set('fdca')\n",
    "A==B"
   ]
  },
  {
   "cell_type": "code",
   "execution_count": 61,
   "id": "802be45f",
   "metadata": {},
   "outputs": [],
   "source": [
    "A=frozenset(['a','c','d','f'])\n",
    "B=frozenset(['a','b','d','e'])"
   ]
  },
  {
   "cell_type": "code",
   "execution_count": 62,
   "id": "821e060d",
   "metadata": {},
   "outputs": [
    {
     "data": {
      "text/plain": [
       "frozenset({'c', 'f'})"
      ]
     },
     "execution_count": 62,
     "metadata": {},
     "output_type": "execute_result"
    }
   ],
   "source": [
    "A-B"
   ]
  },
  {
   "cell_type": "code",
   "execution_count": 63,
   "id": "4a31d3de",
   "metadata": {},
   "outputs": [
    {
     "data": {
      "text/plain": [
       "frozenset({'a', 'b', 'c', 'd', 'e', 'f'})"
      ]
     },
     "execution_count": 63,
     "metadata": {},
     "output_type": "execute_result"
    }
   ],
   "source": [
    "A|B"
   ]
  },
  {
   "cell_type": "code",
   "execution_count": 64,
   "id": "1560d1f2",
   "metadata": {},
   "outputs": [
    {
     "data": {
      "text/plain": [
       "{1, 2, 3, 4, 5, 6, 7, 8, 9, 10}"
      ]
     },
     "execution_count": 64,
     "metadata": {},
     "output_type": "execute_result"
    }
   ],
   "source": [
    "s1={x for x in range(1,11)}\n",
    "s1"
   ]
  },
  {
   "cell_type": "code",
   "execution_count": null,
   "id": "be3ebd8f",
   "metadata": {},
   "outputs": [],
   "source": []
  },
  {
   "cell_type": "code",
   "execution_count": null,
   "id": "549f5a85",
   "metadata": {},
   "outputs": [],
   "source": [
    "#############Story19"
   ]
  },
  {
   "cell_type": "code",
   "execution_count": 66,
   "id": "33d702b7",
   "metadata": {},
   "outputs": [
    {
     "data": {
      "text/plain": [
       "[1, 2, 3, 4]"
      ]
     },
     "execution_count": 66,
     "metadata": {},
     "output_type": "execute_result"
    }
   ],
   "source": [
    "ns=[3,1,4,2]\n",
    "ns.sort()\n",
    "ns"
   ]
  },
  {
   "cell_type": "code",
   "execution_count": 68,
   "id": "4582bc29",
   "metadata": {},
   "outputs": [
    {
     "data": {
      "text/plain": [
       "[('Lee', 12), ('Park', 29), ('Yoon', 33)]"
      ]
     },
     "execution_count": 68,
     "metadata": {},
     "output_type": "execute_result"
    }
   ],
   "source": [
    "ns=[('Yoon',33),('Lee',12),('Park',29)]\n",
    "def age(t):\n",
    "    return t[1]\n",
    "ns.sort(key=age)\n",
    "ns"
   ]
  },
  {
   "cell_type": "code",
   "execution_count": 70,
   "id": "e596ff7e",
   "metadata": {},
   "outputs": [
    {
     "data": {
      "text/plain": [
       "[('Yoon', 33), ('Park', 29), ('Lee', 12)]"
      ]
     },
     "execution_count": 70,
     "metadata": {},
     "output_type": "execute_result"
    }
   ],
   "source": [
    "ns.sort(key=age,reverse=True)\n",
    "ns"
   ]
  },
  {
   "cell_type": "code",
   "execution_count": 73,
   "id": "6d246bfd",
   "metadata": {},
   "outputs": [
    {
     "data": {
      "text/plain": [
       "[('Yoon', 33), ('Park', 29), ('Lee', 12)]"
      ]
     },
     "execution_count": 73,
     "metadata": {},
     "output_type": "execute_result"
    }
   ],
   "source": [
    "nss=sorted(ns,key=age,reverse=True)\n",
    "nss"
   ]
  },
  {
   "cell_type": "code",
   "execution_count": null,
   "id": "3df242d7",
   "metadata": {},
   "outputs": [],
   "source": []
  },
  {
   "cell_type": "code",
   "execution_count": null,
   "id": "51ea0384",
   "metadata": {},
   "outputs": [],
   "source": [
    "#############Story20"
   ]
  },
  {
   "cell_type": "code",
   "execution_count": 74,
   "id": "f8f5e0b9",
   "metadata": {},
   "outputs": [
    {
     "data": {
      "text/plain": [
       "{1: '김현주', 2: '윤나은', 3: '장현지'}"
      ]
     },
     "execution_count": 74,
     "metadata": {},
     "output_type": "execute_result"
    }
   ],
   "source": [
    "names=['윤나은','김현주','장현지']\n",
    "names.sort()\n",
    "dnames={}\n",
    "i=1\n",
    "for n in names:\n",
    "    dnames[i]=n\n",
    "    i +=1\n",
    "dnames"
   ]
  },
  {
   "cell_type": "code",
   "execution_count": 77,
   "id": "55cdc97e",
   "metadata": {},
   "outputs": [
    {
     "data": {
      "text/plain": [
       "{1: '김현주', 2: '윤나은', 3: '장현지'}"
      ]
     },
     "execution_count": 77,
     "metadata": {},
     "output_type": "execute_result"
    }
   ],
   "source": [
    "dnames={k:v for k,v in enumerate(sorted(names),1)}\n",
    "dnames"
   ]
  },
  {
   "cell_type": "code",
   "execution_count": null,
   "id": "11b91701",
   "metadata": {},
   "outputs": [],
   "source": []
  },
  {
   "cell_type": "code",
   "execution_count": null,
   "id": "ecf9968a",
   "metadata": {},
   "outputs": [],
   "source": [
    "###############Story21"
   ]
  },
  {
   "cell_type": "code",
   "execution_count": 78,
   "id": "e41e6b5f",
   "metadata": {},
   "outputs": [
    {
     "data": {
      "text/plain": [
       "'My name is jeonso'"
      ]
     },
     "execution_count": 78,
     "metadata": {},
     "output_type": "execute_result"
    }
   ],
   "source": [
    "s='My name is %s' % 'jeonso'\n",
    "s"
   ]
  },
  {
   "cell_type": "code",
   "execution_count": null,
   "id": "cde47a7a",
   "metadata": {},
   "outputs": [],
   "source": []
  },
  {
   "cell_type": "code",
   "execution_count": null,
   "id": "04fc6e99",
   "metadata": {},
   "outputs": [],
   "source": []
  }
 ],
 "metadata": {
  "kernelspec": {
   "display_name": "Python 3 (ipykernel)",
   "language": "python",
   "name": "python3"
  },
  "language_info": {
   "codemirror_mode": {
    "name": "ipython",
    "version": 3
   },
   "file_extension": ".py",
   "mimetype": "text/x-python",
   "name": "python",
   "nbconvert_exporter": "python",
   "pygments_lexer": "ipython3",
   "version": "3.10.2"
  }
 },
 "nbformat": 4,
 "nbformat_minor": 5
}
